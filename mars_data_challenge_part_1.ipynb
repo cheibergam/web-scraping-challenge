{
 "cells": [
  {
   "cell_type": "markdown",
   "id": "8f345c1e",
   "metadata": {},
   "source": [
    "# Deliverable 1: Scrape Titles and Preview Text from Mars News"
   ]
  },
  {
   "cell_type": "markdown",
   "id": "d42b7207",
   "metadata": {},
   "source": [
    "## Importing the dependencies"
   ]
  },
  {
   "cell_type": "code",
   "execution_count": 1,
   "id": "ae878e6f",
   "metadata": {},
   "outputs": [],
   "source": [
    "# Importing the dependencies\n",
    "from bs4 import BeautifulSoup\n",
    "from splinter import Browser\n",
    "from webdriver_manager.chrome import ChromeDriverManager\n",
    "import requests\n",
    "import json"
   ]
  },
  {
   "cell_type": "code",
   "execution_count": 2,
   "id": "fcf9de89",
   "metadata": {},
   "outputs": [],
   "source": [
    "executable_path = {'executable_path': ChromeDriverManager().install()}\n",
    "browser = Browser('chrome', **executable_path, headless=False)"
   ]
  },
  {
   "cell_type": "markdown",
   "id": "7a63c382",
   "metadata": {},
   "source": [
    "## Loading the webpage and creating BeautifulSoup object"
   ]
  },
  {
   "cell_type": "code",
   "execution_count": 3,
   "id": "7c2f4c4c",
   "metadata": {},
   "outputs": [],
   "source": [
    "# URL of page to be scraped\n",
    "url = 'https://redplanetscience.com/'\n",
    "\n",
    "# Retrieve page with the browser\n",
    "browser.visit(url)\n",
    "html = browser.html\n",
    "\n",
    "# Create BeautifulSoup object; parse with 'html.parser'\n",
    "soup = BeautifulSoup(html, 'html.parser')"
   ]
  },
  {
   "cell_type": "code",
   "execution_count": 4,
   "id": "49111db7",
   "metadata": {},
   "outputs": [
    {
     "name": "stdout",
     "output_type": "stream",
     "text": [
      "News - Mars Exploration Program\n"
     ]
    }
   ],
   "source": [
    "# Extract title text\n",
    "title = soup.title.text\n",
    "print(title)"
   ]
  },
  {
   "cell_type": "markdown",
   "id": "57958aaf",
   "metadata": {},
   "source": [
    "## 1) Scraping the title and preview text / summary text of each article on the landing page\n",
    "\n",
    "After inspecting the page by using Chrome DevTools, the following information can be identified:\n",
    "* **Article:** identified under `<div class=\"list_text\">`\n",
    "* **Article Date:** identified under `<div class=\"list_date\">`\n",
    "* **Article Title:** identified under `<div class=\"content_title\">`\n",
    "* **Article Summary:** identified under `<div class=\"article_teaser_body\">`"
   ]
  },
  {
   "cell_type": "code",
   "execution_count": 5,
   "id": "27c903b4",
   "metadata": {},
   "outputs": [],
   "source": [
    "# Retrieve the parent divs for all articles\n",
    "articles = soup.find_all('div', class_='list_text')"
   ]
  },
  {
   "cell_type": "code",
   "execution_count": 6,
   "id": "5e94e25b",
   "metadata": {},
   "outputs": [],
   "source": [
    "# Empty list to store all the dictionaries extracted from the page\n",
    "title_and_preview = []\n",
    "\n",
    "# Loop over all the articles elements\n",
    "for article in articles:\n",
    "    # Dictionary to keep the required information from each article: title and preview\n",
    "    title_and_preview_dict = {\n",
    "        'title':article.find('div', class_='content_title').text,\n",
    "        'preview':article.find('div', class_='article_teaser_body').text\n",
    "    }\n",
    "    # Adding the dictionary with the article elements into the main list\n",
    "    title_and_preview.append(title_and_preview_dict)"
   ]
  },
  {
   "cell_type": "code",
   "execution_count": 7,
   "id": "bcb2e7b3",
   "metadata": {},
   "outputs": [
    {
     "data": {
      "text/plain": [
       "[]"
      ]
     },
     "execution_count": 7,
     "metadata": {},
     "output_type": "execute_result"
    }
   ],
   "source": [
    "# Printing the list with all the dictionaries\n",
    "title_and_preview"
   ]
  },
  {
   "cell_type": "code",
   "execution_count": 8,
   "id": "e805ac0f",
   "metadata": {},
   "outputs": [],
   "source": [
    "# Closing the browser session with Splinter\n",
    "browser.quit()"
   ]
  },
  {
   "cell_type": "markdown",
   "id": "40c307e6",
   "metadata": {},
   "source": [
    "# Bonus\n",
    "\n",
    "## 2) Store the scraped data in a file\n",
    "\n",
    "After creating the list of dictionaries with the required information for each article (title and preview), store the scraped data in a JSON file"
   ]
  },
  {
   "cell_type": "code",
   "execution_count": 9,
   "id": "f5de0e7d",
   "metadata": {},
   "outputs": [],
   "source": [
    "# Path and Filename for the JSON file\n",
    "output_file = \"output/title_and_preview.json\"\n",
    "\n",
    "# Open the file with the \"write\" option and save the data in JSON format\n",
    "with open(output_file, \"w\") as outfile:\n",
    "    json.dump(title_and_preview, outfile, indent=2)"
   ]
  }
 ],
 "metadata": {
  "kernelspec": {
   "display_name": "Python 3 (ipykernel)",
   "language": "python",
   "name": "python3"
  },
  "language_info": {
   "codemirror_mode": {
    "name": "ipython",
    "version": 3
   },
   "file_extension": ".py",
   "mimetype": "text/x-python",
   "name": "python",
   "nbconvert_exporter": "python",
   "pygments_lexer": "ipython3",
   "version": "3.9.12"
  }
 },
 "nbformat": 4,
 "nbformat_minor": 5
}
